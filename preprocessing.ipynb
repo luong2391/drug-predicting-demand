{
 "cells": [
  {
   "attachments": {},
   "cell_type": "markdown",
   "metadata": {},
   "source": [
    "# Preprocessing\n",
    "- Drop redundancies\n",
    "- Handing missing values\n",
    "- Encoding"
   ]
  },
  {
   "cell_type": "code",
   "execution_count": 1,
   "metadata": {},
   "outputs": [],
   "source": [
    "import pandas as pd\n",
    "import numpy as np"
   ]
  },
  {
   "cell_type": "code",
   "execution_count": 2,
   "metadata": {},
   "outputs": [],
   "source": [
    "import pandas as pd\n",
    "dataset = pd.read_excel('pharma.xlsx')"
   ]
  },
  {
   "cell_type": "code",
   "execution_count": 3,
   "metadata": {},
   "outputs": [
    {
     "name": "stdout",
     "output_type": "stream",
     "text": [
      "<class 'pandas.core.frame.DataFrame'>\n",
      "RangeIndex: 791679 entries, 0 to 791678\n",
      "Data columns (total 15 columns):\n",
      " #   Column         Non-Null Count   Dtype         \n",
      "---  ------         --------------   -----         \n",
      " 0   Mã đơn hàng    721231 non-null  object        \n",
      " 1   Mã KH          721231 non-null  object        \n",
      " 2   Tên KH         721160 non-null  object        \n",
      " 3   Tỉnh           709286 non-null  object        \n",
      " 4   Quận/huyện     669461 non-null  object        \n",
      " 5   Xã/phường      700076 non-null  object        \n",
      " 6   Ngày           721231 non-null  datetime64[ns]\n",
      " 7   SDT            721231 non-null  float64       \n",
      " 8   Tên nhân viên  721231 non-null  object        \n",
      " 9   Chi nhánh      721231 non-null  object        \n",
      " 10  Mã thuốc       721231 non-null  object        \n",
      " 11  Tên thuốc      721231 non-null  object        \n",
      " 12  Đơn vị         721231 non-null  object        \n",
      " 13  Số lượng       721231 non-null  float64       \n",
      " 14  Đơn giá        721231 non-null  float64       \n",
      "dtypes: datetime64[ns](1), float64(3), object(11)\n",
      "memory usage: 90.6+ MB\n"
     ]
    }
   ],
   "source": [
    "dataset.info()"
   ]
  },
  {
   "cell_type": "code",
   "execution_count": 4,
   "metadata": {},
   "outputs": [
    {
     "data": {
      "text/html": [
       "<div>\n",
       "<style scoped>\n",
       "    .dataframe tbody tr th:only-of-type {\n",
       "        vertical-align: middle;\n",
       "    }\n",
       "\n",
       "    .dataframe tbody tr th {\n",
       "        vertical-align: top;\n",
       "    }\n",
       "\n",
       "    .dataframe thead th {\n",
       "        text-align: right;\n",
       "    }\n",
       "</style>\n",
       "<table border=\"1\" class=\"dataframe\">\n",
       "  <thead>\n",
       "    <tr style=\"text-align: right;\">\n",
       "      <th></th>\n",
       "      <th>Mã đơn hàng</th>\n",
       "      <th>Mã KH</th>\n",
       "      <th>Tên KH</th>\n",
       "      <th>Tỉnh</th>\n",
       "      <th>Quận/huyện</th>\n",
       "      <th>Xã/phường</th>\n",
       "      <th>Ngày</th>\n",
       "      <th>SDT</th>\n",
       "      <th>Tên nhân viên</th>\n",
       "      <th>Chi nhánh</th>\n",
       "      <th>Mã thuốc</th>\n",
       "      <th>Tên thuốc</th>\n",
       "      <th>Đơn vị</th>\n",
       "      <th>Số lượng</th>\n",
       "      <th>Đơn giá</th>\n",
       "    </tr>\n",
       "  </thead>\n",
       "  <tbody>\n",
       "    <tr>\n",
       "      <th>0</th>\n",
       "      <td>0c705e68-cbff-4c25-b860-881c51d7b291</td>\n",
       "      <td>N00146</td>\n",
       "      <td>Nhà thuốc Bệnh viện Nam Thăng Long</td>\n",
       "      <td>Thành phố Hà Nội</td>\n",
       "      <td>Quận Bắc Từ Liêm</td>\n",
       "      <td>Phường Xuân Đỉnh</td>\n",
       "      <td>2018-10-04</td>\n",
       "      <td>983855018.0</td>\n",
       "      <td>Phạm Thu Trang</td>\n",
       "      <td>Chi nhánh Hà Nội</td>\n",
       "      <td>G00817</td>\n",
       "      <td>Golistin-enema for children</td>\n",
       "      <td>LO</td>\n",
       "      <td>50.0</td>\n",
       "      <td>26667.0</td>\n",
       "    </tr>\n",
       "    <tr>\n",
       "      <th>1</th>\n",
       "      <td>0c705e68-cbff-4c25-b860-881c51d7b291</td>\n",
       "      <td>N00146</td>\n",
       "      <td>Nhà thuốc Bệnh viện Nam Thăng Long</td>\n",
       "      <td>Thành phố Hà Nội</td>\n",
       "      <td>Quận Bắc Từ Liêm</td>\n",
       "      <td>Phường Xuân Đỉnh</td>\n",
       "      <td>2018-10-04</td>\n",
       "      <td>983855018.0</td>\n",
       "      <td>Phạm Thu Trang</td>\n",
       "      <td>Chi nhánh Hà Nội</td>\n",
       "      <td>G00821</td>\n",
       "      <td>Golistin-enema</td>\n",
       "      <td>LO</td>\n",
       "      <td>30.0</td>\n",
       "      <td>35238.0</td>\n",
       "    </tr>\n",
       "    <tr>\n",
       "      <th>2</th>\n",
       "      <td>0c705e68-cbff-4c25-b860-881c51d7b291</td>\n",
       "      <td>N00146</td>\n",
       "      <td>Nhà thuốc Bệnh viện Nam Thăng Long</td>\n",
       "      <td>Thành phố Hà Nội</td>\n",
       "      <td>Quận Bắc Từ Liêm</td>\n",
       "      <td>Phường Xuân Đỉnh</td>\n",
       "      <td>2018-10-04</td>\n",
       "      <td>983855018.0</td>\n",
       "      <td>Phạm Thu Trang</td>\n",
       "      <td>Chi nhánh Hà Nội</td>\n",
       "      <td>P01191</td>\n",
       "      <td>Phenhalal</td>\n",
       "      <td>ONG</td>\n",
       "      <td>200.0</td>\n",
       "      <td>3950.0</td>\n",
       "    </tr>\n",
       "    <tr>\n",
       "      <th>3</th>\n",
       "      <td>196999A6-37EE-405C-8B9E-33E48A0455DC</td>\n",
       "      <td>P00641</td>\n",
       "      <td>Phòng khám đa khoa Hoàng Dũng - Quảng Trị</td>\n",
       "      <td>Tỉnh Quảng Trị</td>\n",
       "      <td>Thành phố Đông Hà</td>\n",
       "      <td>Phường 1</td>\n",
       "      <td>2018-10-04</td>\n",
       "      <td>977519929.0</td>\n",
       "      <td>Lưu Hữu Công</td>\n",
       "      <td>Chi nhánh Đà Nẵng</td>\n",
       "      <td>Z00209</td>\n",
       "      <td>Zentokid - H10</td>\n",
       "      <td>ONG</td>\n",
       "      <td>400.0</td>\n",
       "      <td>6500.0</td>\n",
       "    </tr>\n",
       "    <tr>\n",
       "      <th>4</th>\n",
       "      <td>5a1d6b35-5755-44d7-ad79-14f60dd4f0ef</td>\n",
       "      <td>B00670</td>\n",
       "      <td>Bệnh Viện Đa Khoa Huyện Tuyên Hóa ( Nhà Thuốc)</td>\n",
       "      <td>Tỉnh Quảng Bình</td>\n",
       "      <td>NaN</td>\n",
       "      <td>Thị Trấn Đồng Lê -Huyện Tuyên Hoá -Tỉnh Quảng ...</td>\n",
       "      <td>2018-10-04</td>\n",
       "      <td>911561101.0</td>\n",
       "      <td>Ngô Minh Anh Văn</td>\n",
       "      <td>Chi nhánh Đà Nẵng</td>\n",
       "      <td>H00852</td>\n",
       "      <td>Hemotocin</td>\n",
       "      <td>LO</td>\n",
       "      <td>10.0</td>\n",
       "      <td>235700.0</td>\n",
       "    </tr>\n",
       "  </tbody>\n",
       "</table>\n",
       "</div>"
      ],
      "text/plain": [
       "                            Mã đơn hàng   Mã KH  \\\n",
       "0  0c705e68-cbff-4c25-b860-881c51d7b291  N00146   \n",
       "1  0c705e68-cbff-4c25-b860-881c51d7b291  N00146   \n",
       "2  0c705e68-cbff-4c25-b860-881c51d7b291  N00146   \n",
       "3  196999A6-37EE-405C-8B9E-33E48A0455DC  P00641   \n",
       "4  5a1d6b35-5755-44d7-ad79-14f60dd4f0ef  B00670   \n",
       "\n",
       "                                           Tên KH              Tỉnh  \\\n",
       "0             Nhà thuốc Bệnh viện Nam Thăng Long   Thành phố Hà Nội   \n",
       "1             Nhà thuốc Bệnh viện Nam Thăng Long   Thành phố Hà Nội   \n",
       "2             Nhà thuốc Bệnh viện Nam Thăng Long   Thành phố Hà Nội   \n",
       "3       Phòng khám đa khoa Hoàng Dũng - Quảng Trị    Tỉnh Quảng Trị   \n",
       "4  Bệnh Viện Đa Khoa Huyện Tuyên Hóa ( Nhà Thuốc)   Tỉnh Quảng Bình   \n",
       "\n",
       "          Quận/huyện                                          Xã/phường  \\\n",
       "0   Quận Bắc Từ Liêm                                   Phường Xuân Đỉnh   \n",
       "1   Quận Bắc Từ Liêm                                   Phường Xuân Đỉnh   \n",
       "2   Quận Bắc Từ Liêm                                   Phường Xuân Đỉnh   \n",
       "3  Thành phố Đông Hà                                           Phường 1   \n",
       "4                NaN  Thị Trấn Đồng Lê -Huyện Tuyên Hoá -Tỉnh Quảng ...   \n",
       "\n",
       "       Ngày           SDT     Tên nhân viên          Chi nhánh Mã thuốc  \\\n",
       "0 2018-10-04  983855018.0    Phạm Thu Trang   Chi nhánh Hà Nội   G00817   \n",
       "1 2018-10-04  983855018.0    Phạm Thu Trang   Chi nhánh Hà Nội   G00821   \n",
       "2 2018-10-04  983855018.0    Phạm Thu Trang   Chi nhánh Hà Nội   P01191   \n",
       "3 2018-10-04  977519929.0      Lưu Hữu Công  Chi nhánh Đà Nẵng   Z00209   \n",
       "4 2018-10-04  911561101.0  Ngô Minh Anh Văn  Chi nhánh Đà Nẵng   H00852   \n",
       "\n",
       "                     Tên thuốc Đơn vị  Số lượng   Đơn giá  \n",
       "0  Golistin-enema for children     LO      50.0   26667.0  \n",
       "1              Golistin-enema      LO      30.0   35238.0  \n",
       "2                   Phenhalal     ONG     200.0    3950.0  \n",
       "3               Zentokid - H10    ONG     400.0    6500.0  \n",
       "4                   Hemotocin      LO      10.0  235700.0  "
      ]
     },
     "execution_count": 4,
     "metadata": {},
     "output_type": "execute_result"
    }
   ],
   "source": [
    "dataset.head()"
   ]
  },
  {
   "cell_type": "code",
   "execution_count": 5,
   "metadata": {},
   "outputs": [
    {
     "data": {
      "text/plain": [
       "Index(['Mã đơn hàng', 'Mã KH', 'Tên KH', 'Tỉnh', 'Quận/huyện', 'Xã/phường',\n",
       "       'Ngày ', 'SDT', 'Tên nhân viên', 'Chi nhánh', 'Mã thuốc', 'Tên thuốc',\n",
       "       'Đơn vị', 'Số lượng', 'Đơn giá'],\n",
       "      dtype='object')"
      ]
     },
     "execution_count": 5,
     "metadata": {},
     "output_type": "execute_result"
    }
   ],
   "source": [
    "columns = dataset.columns\n",
    "columns"
   ]
  },
  {
   "cell_type": "code",
   "execution_count": 6,
   "metadata": {},
   "outputs": [
    {
     "name": "stdout",
     "output_type": "stream",
     "text": [
      "Mã đơn hàng: 341939\n",
      "Mã KH: 61808\n",
      "Tên KH: 49183\n",
      "Tỉnh: 3800\n",
      "Quận/huyện: 3707\n",
      "Xã/phường: 12389\n",
      "Ngày : 1351\n",
      "SDT: 1846\n",
      "Tên nhân viên: 1714\n",
      "Chi nhánh: 4\n",
      "Mã thuốc: 341\n",
      "Tên thuốc: 457\n",
      "Đơn vị: 10\n",
      "Số lượng: 1453\n",
      "Đơn giá: 776\n"
     ]
    }
   ],
   "source": [
    "number_unique = {}\n",
    "for column in columns:\n",
    "    number_unique[column] = dataset[column].nunique()\n",
    "    print(f'{column}: {dataset[column].nunique()}')"
   ]
  },
  {
   "cell_type": "code",
   "execution_count": 7,
   "metadata": {},
   "outputs": [
    {
     "data": {
      "text/plain": [
       "Thành phố Hà Nội         95736\n",
       "Tỉnh Thanh Hóa           34058\n",
       "Thành phố Hồ Chí Minh    33184\n",
       "Tỉnh Nghệ An             30783\n",
       "Tỉnh Thái Bình           29895\n",
       "Tỉnh Thái Nguyên         27307\n",
       "Thành phố Hải Phòng      26176\n",
       "Thành phố Đà Nẵng        25161\n",
       "Tỉnh Nam Định            24963\n",
       "Tỉnh Quảng Ninh          17997\n",
       "Tỉnh Hải Dương           16911\n",
       "Tỉnh Tuyên Quang         16837\n",
       "Tỉnh Vĩnh Phúc           16527\n",
       "Tỉnh Bắc Ninh            16123\n",
       "Tỉnh Hưng Yên            15117\n",
       "Tỉnh Hà Nam              13976\n",
       "Tỉnh Ninh Bình           13364\n",
       "Tỉnh Bắc Giang           13168\n",
       "Tỉnh Quảng Trị           12569\n",
       "Tỉnh Phú Thọ             10934\n",
       "Name: Tỉnh, dtype: int64"
      ]
     },
     "execution_count": 7,
     "metadata": {},
     "output_type": "execute_result"
    }
   ],
   "source": [
    "top = dataset['Tỉnh'].value_counts()\n",
    "top.head(20)"
   ]
  },
  {
   "attachments": {},
   "cell_type": "markdown",
   "metadata": {},
   "source": [
    "## Drop redundancies\n",
    "- Drop columns with vast categories (numbers of unique)"
   ]
  },
  {
   "attachments": {},
   "cell_type": "markdown",
   "metadata": {},
   "source": [
    "### Case 1\n",
    "- mã đơn hàng, mã kh, tên kh, tên nhân viên: drop vì\n",
    "    - nunique lớn (nhiều thể loại)\n",
    "    - \n",
    "- Dơn giá không liên quan vì = số lượng x giá (giá có thể thay đổi nhưng drop để đơn giản trong TH này)\n",
    "- Tên thuốc dễ nhập sai -> giữ mã thuốc, bỏ tên thuốc, đơn vị\n",
    "- địa điểm: chi nhánh, Tỉnh, quận/huyện, xã/phường -> chọn chi nhánh (drop còn lại)"
   ]
  },
  {
   "cell_type": "code",
   "execution_count": 8,
   "metadata": {},
   "outputs": [
    {
     "data": {
      "text/html": [
       "<div>\n",
       "<style scoped>\n",
       "    .dataframe tbody tr th:only-of-type {\n",
       "        vertical-align: middle;\n",
       "    }\n",
       "\n",
       "    .dataframe tbody tr th {\n",
       "        vertical-align: top;\n",
       "    }\n",
       "\n",
       "    .dataframe thead th {\n",
       "        text-align: right;\n",
       "    }\n",
       "</style>\n",
       "<table border=\"1\" class=\"dataframe\">\n",
       "  <thead>\n",
       "    <tr style=\"text-align: right;\">\n",
       "      <th></th>\n",
       "      <th>Tỉnh</th>\n",
       "      <th>Ngày</th>\n",
       "      <th>SDT</th>\n",
       "      <th>Mã thuốc</th>\n",
       "      <th>Số lượng</th>\n",
       "    </tr>\n",
       "  </thead>\n",
       "  <tbody>\n",
       "    <tr>\n",
       "      <th>0</th>\n",
       "      <td>Thành phố Hà Nội</td>\n",
       "      <td>2018-10-04</td>\n",
       "      <td>983855018.0</td>\n",
       "      <td>G00817</td>\n",
       "      <td>50.0</td>\n",
       "    </tr>\n",
       "    <tr>\n",
       "      <th>1</th>\n",
       "      <td>Thành phố Hà Nội</td>\n",
       "      <td>2018-10-04</td>\n",
       "      <td>983855018.0</td>\n",
       "      <td>G00821</td>\n",
       "      <td>30.0</td>\n",
       "    </tr>\n",
       "    <tr>\n",
       "      <th>2</th>\n",
       "      <td>Thành phố Hà Nội</td>\n",
       "      <td>2018-10-04</td>\n",
       "      <td>983855018.0</td>\n",
       "      <td>P01191</td>\n",
       "      <td>200.0</td>\n",
       "    </tr>\n",
       "    <tr>\n",
       "      <th>3</th>\n",
       "      <td>Tỉnh Quảng Trị</td>\n",
       "      <td>2018-10-04</td>\n",
       "      <td>977519929.0</td>\n",
       "      <td>Z00209</td>\n",
       "      <td>400.0</td>\n",
       "    </tr>\n",
       "    <tr>\n",
       "      <th>4</th>\n",
       "      <td>Tỉnh Quảng Bình</td>\n",
       "      <td>2018-10-04</td>\n",
       "      <td>911561101.0</td>\n",
       "      <td>H00852</td>\n",
       "      <td>10.0</td>\n",
       "    </tr>\n",
       "  </tbody>\n",
       "</table>\n",
       "</div>"
      ],
      "text/plain": [
       "               Tỉnh      Ngày           SDT Mã thuốc  Số lượng\n",
       "0  Thành phố Hà Nội 2018-10-04  983855018.0   G00817      50.0\n",
       "1  Thành phố Hà Nội 2018-10-04  983855018.0   G00821      30.0\n",
       "2  Thành phố Hà Nội 2018-10-04  983855018.0   P01191     200.0\n",
       "3    Tỉnh Quảng Trị 2018-10-04  977519929.0   Z00209     400.0\n",
       "4   Tỉnh Quảng Bình 2018-10-04  911561101.0   H00852      10.0"
      ]
     },
     "execution_count": 8,
     "metadata": {},
     "output_type": "execute_result"
    }
   ],
   "source": [
    "drop_list = ['Mã đơn hàng', 'Mã KH', 'Tên KH', 'Xã/phường', 'Quận/huyện', 'Tên nhân viên', 'Tên thuốc', 'Đơn vị', 'Đơn giá', 'Chi nhánh' ]\n",
    "df1 = dataset.drop(drop_list, axis=1)\n",
    "df1.head()"
   ]
  },
  {
   "cell_type": "code",
   "execution_count": 9,
   "metadata": {},
   "outputs": [
    {
     "name": "stdout",
     "output_type": "stream",
     "text": [
      "<class 'pandas.core.frame.DataFrame'>\n",
      "RangeIndex: 791679 entries, 0 to 791678\n",
      "Data columns (total 5 columns):\n",
      " #   Column    Non-Null Count   Dtype         \n",
      "---  ------    --------------   -----         \n",
      " 0   Tỉnh      709286 non-null  object        \n",
      " 1   Ngày      721231 non-null  datetime64[ns]\n",
      " 2   SDT       721231 non-null  float64       \n",
      " 3   Mã thuốc  721231 non-null  object        \n",
      " 4   Số lượng  721231 non-null  float64       \n",
      "dtypes: datetime64[ns](1), float64(2), object(2)\n",
      "memory usage: 30.2+ MB\n"
     ]
    }
   ],
   "source": [
    "df1.info()"
   ]
  },
  {
   "cell_type": "code",
   "execution_count": 10,
   "metadata": {},
   "outputs": [
    {
     "data": {
      "text/plain": [
       "Thành phố Hà Nội         95736\n",
       "Tỉnh Thanh Hóa           34058\n",
       "Thành phố Hồ Chí Minh    33184\n",
       "Tỉnh Nghệ An             30783\n",
       "Tỉnh Thái Bình           29895\n",
       "Tỉnh Thái Nguyên         27307\n",
       "Thành phố Hải Phòng      26176\n",
       "Name: Tỉnh, dtype: int64"
      ]
     },
     "execution_count": 10,
     "metadata": {},
     "output_type": "execute_result"
    }
   ],
   "source": [
    "# Step 1: Get the value counts\n",
    "value_counts = df1['Tỉnh'].value_counts()\n",
    "value_counts.head(7)"
   ]
  },
  {
   "attachments": {},
   "cell_type": "markdown",
   "metadata": {},
   "source": [
    "### Choose top 7 popular city:\n",
    "- Hà Nội, Thanh Hóa, Nghệ An, Thái Bình, Tp Hồ Chí Minh, Thái Nguyên, Thành phố Hải Phòng"
   ]
  },
  {
   "cell_type": "code",
   "execution_count": 11,
   "metadata": {},
   "outputs": [
    {
     "data": {
      "text/html": [
       "<div>\n",
       "<style scoped>\n",
       "    .dataframe tbody tr th:only-of-type {\n",
       "        vertical-align: middle;\n",
       "    }\n",
       "\n",
       "    .dataframe tbody tr th {\n",
       "        vertical-align: top;\n",
       "    }\n",
       "\n",
       "    .dataframe thead th {\n",
       "        text-align: right;\n",
       "    }\n",
       "</style>\n",
       "<table border=\"1\" class=\"dataframe\">\n",
       "  <thead>\n",
       "    <tr style=\"text-align: right;\">\n",
       "      <th></th>\n",
       "      <th>Tỉnh</th>\n",
       "      <th>Ngày</th>\n",
       "      <th>SDT</th>\n",
       "      <th>Mã thuốc</th>\n",
       "      <th>Số lượng</th>\n",
       "    </tr>\n",
       "  </thead>\n",
       "  <tbody>\n",
       "    <tr>\n",
       "      <th>0</th>\n",
       "      <td>Thành phố Hà Nội</td>\n",
       "      <td>2018-10-04</td>\n",
       "      <td>983855018.0</td>\n",
       "      <td>G00817</td>\n",
       "      <td>50.0</td>\n",
       "    </tr>\n",
       "    <tr>\n",
       "      <th>1</th>\n",
       "      <td>Thành phố Hà Nội</td>\n",
       "      <td>2018-10-04</td>\n",
       "      <td>983855018.0</td>\n",
       "      <td>G00821</td>\n",
       "      <td>30.0</td>\n",
       "    </tr>\n",
       "    <tr>\n",
       "      <th>2</th>\n",
       "      <td>Thành phố Hà Nội</td>\n",
       "      <td>2018-10-04</td>\n",
       "      <td>983855018.0</td>\n",
       "      <td>P01191</td>\n",
       "      <td>200.0</td>\n",
       "    </tr>\n",
       "    <tr>\n",
       "      <th>14</th>\n",
       "      <td>Thành phố Hà Nội</td>\n",
       "      <td>2018-10-10</td>\n",
       "      <td>903251248.0</td>\n",
       "      <td>G00898</td>\n",
       "      <td>5.0</td>\n",
       "    </tr>\n",
       "    <tr>\n",
       "      <th>15</th>\n",
       "      <td>Tỉnh Thanh Hóa</td>\n",
       "      <td>2018-10-13</td>\n",
       "      <td>912208899.0</td>\n",
       "      <td>D01057</td>\n",
       "      <td>4000.0</td>\n",
       "    </tr>\n",
       "    <tr>\n",
       "      <th>...</th>\n",
       "      <td>...</td>\n",
       "      <td>...</td>\n",
       "      <td>...</td>\n",
       "      <td>...</td>\n",
       "      <td>...</td>\n",
       "    </tr>\n",
       "    <tr>\n",
       "      <th>791673</th>\n",
       "      <td>Thành phố Hà Nội</td>\n",
       "      <td>2022-07-11</td>\n",
       "      <td>969512158.0</td>\n",
       "      <td>L01021</td>\n",
       "      <td>1.0</td>\n",
       "    </tr>\n",
       "    <tr>\n",
       "      <th>791674</th>\n",
       "      <td>Thành phố Hà Nội</td>\n",
       "      <td>2022-07-11</td>\n",
       "      <td>969512158.0</td>\n",
       "      <td>N01080</td>\n",
       "      <td>2.0</td>\n",
       "    </tr>\n",
       "    <tr>\n",
       "      <th>791675</th>\n",
       "      <td>Thành phố Hà Nội</td>\n",
       "      <td>2022-07-11</td>\n",
       "      <td>969512158.0</td>\n",
       "      <td>N01084</td>\n",
       "      <td>2.0</td>\n",
       "    </tr>\n",
       "    <tr>\n",
       "      <th>791677</th>\n",
       "      <td>Thành phố Hà Nội</td>\n",
       "      <td>2022-07-11</td>\n",
       "      <td>969512158.0</td>\n",
       "      <td>P01364</td>\n",
       "      <td>35.0</td>\n",
       "    </tr>\n",
       "    <tr>\n",
       "      <th>791678</th>\n",
       "      <td>Thành phố Hà Nội</td>\n",
       "      <td>2022-07-11</td>\n",
       "      <td>969512158.0</td>\n",
       "      <td>Z00209</td>\n",
       "      <td>10.0</td>\n",
       "    </tr>\n",
       "  </tbody>\n",
       "</table>\n",
       "<p>277139 rows × 5 columns</p>\n",
       "</div>"
      ],
      "text/plain": [
       "                    Tỉnh      Ngày           SDT Mã thuốc  Số lượng\n",
       "0       Thành phố Hà Nội 2018-10-04  983855018.0   G00817      50.0\n",
       "1       Thành phố Hà Nội 2018-10-04  983855018.0   G00821      30.0\n",
       "2       Thành phố Hà Nội 2018-10-04  983855018.0   P01191     200.0\n",
       "14      Thành phố Hà Nội 2018-10-10  903251248.0   G00898       5.0\n",
       "15        Tỉnh Thanh Hóa 2018-10-13  912208899.0   D01057    4000.0\n",
       "...                  ...        ...          ...      ...       ...\n",
       "791673  Thành phố Hà Nội 2022-07-11  969512158.0   L01021       1.0\n",
       "791674  Thành phố Hà Nội 2022-07-11  969512158.0   N01080       2.0\n",
       "791675  Thành phố Hà Nội 2022-07-11  969512158.0   N01084       2.0\n",
       "791677  Thành phố Hà Nội 2022-07-11  969512158.0   P01364      35.0\n",
       "791678  Thành phố Hà Nội 2022-07-11  969512158.0   Z00209      10.0\n",
       "\n",
       "[277139 rows x 5 columns]"
      ]
     },
     "execution_count": 11,
     "metadata": {},
     "output_type": "execute_result"
    }
   ],
   "source": [
    "# Step 2: Get the top 7 values\n",
    "top_values = value_counts.nlargest(7).index.tolist()\n",
    "\n",
    "# Step 3: Create a boolean mask\n",
    "mask = df1['Tỉnh'].isin(top_values)\n",
    "\n",
    "# Step 4: Select the rows that contain the top 7 values\n",
    "df_top7 = df1.loc[mask]\n",
    "df_top7"
   ]
  },
  {
   "cell_type": "code",
   "execution_count": 12,
   "metadata": {},
   "outputs": [
    {
     "name": "stdout",
     "output_type": "stream",
     "text": [
      "<class 'pandas.core.frame.DataFrame'>\n",
      "Int64Index: 277139 entries, 0 to 791678\n",
      "Data columns (total 5 columns):\n",
      " #   Column    Non-Null Count   Dtype         \n",
      "---  ------    --------------   -----         \n",
      " 0   Tỉnh      277139 non-null  object        \n",
      " 1   Ngày      277139 non-null  datetime64[ns]\n",
      " 2   SDT       277139 non-null  float64       \n",
      " 3   Mã thuốc  277139 non-null  object        \n",
      " 4   Số lượng  277139 non-null  float64       \n",
      "dtypes: datetime64[ns](1), float64(2), object(2)\n",
      "memory usage: 12.7+ MB\n"
     ]
    }
   ],
   "source": [
    "df_top7.info()"
   ]
  },
  {
   "attachments": {},
   "cell_type": "markdown",
   "metadata": {},
   "source": [
    "### Select top 8 popular drugs\n",
    "- Step 1: Choose top 50 popular\n",
    "- Step 2: Group by ATC code\n",
    "- Step 3: Select essential group then use their drugs"
   ]
  },
  {
   "cell_type": "code",
   "execution_count": 13,
   "metadata": {},
   "outputs": [
    {
     "data": {
      "text/plain": [
       "N01080    9401\n",
       "M01225    9291\n",
       "Z00200    9031\n",
       "G00821    8476\n",
       "P01481    8342\n",
       "M01090    8195\n",
       "P01364    7201\n",
       "G00898    7069\n",
       "P01146    6874\n",
       "Z00209    5756\n",
       "Z00226    5074\n",
       "F00550    5025\n",
       "B01373    4776\n",
       "G00869    4732\n",
       "C01842    4712\n",
       "B01166    4044\n",
       "L01012    3914\n",
       "Z00197    3549\n",
       "N01041    3498\n",
       "A01414    3263\n",
       "D01304    3122\n",
       "R00365    2865\n",
       "H01921    2819\n",
       "T01864    2723\n",
       "D01375    2659\n",
       "N01084    2624\n",
       "P01478    2591\n",
       "D01349    2574\n",
       "A01303    2272\n",
       "T01855    2184\n",
       "S01447    2175\n",
       "P01299    2148\n",
       "N00845    2003\n",
       "L00993    1993\n",
       "T01701    1894\n",
       "L00854    1820\n",
       "N01165    1801\n",
       "Z00219    1797\n",
       "D01183    1772\n",
       "L00801    1766\n",
       "D01355    1721\n",
       "P01336    1580\n",
       "H00852    1541\n",
       "F00482    1523\n",
       "D01063    1509\n",
       "M01656    1445\n",
       "G00817    1439\n",
       "G00951    1435\n",
       "A01338    1421\n",
       "M01076    1407\n",
       "Name: Mã thuốc, dtype: int64"
      ]
     },
     "execution_count": 13,
     "metadata": {},
     "output_type": "execute_result"
    }
   ],
   "source": [
    "drug_50 = df_top7['Mã thuốc'].value_counts()\n",
    "drug_50.head(50)"
   ]
  },
  {
   "cell_type": "code",
   "execution_count": null,
   "metadata": {},
   "outputs": [],
   "source": []
  }
 ],
 "metadata": {
  "kernelspec": {
   "display_name": "Python 3",
   "language": "python",
   "name": "python3"
  },
  "language_info": {
   "codemirror_mode": {
    "name": "ipython",
    "version": 3
   },
   "file_extension": ".py",
   "mimetype": "text/x-python",
   "name": "python",
   "nbconvert_exporter": "python",
   "pygments_lexer": "ipython3",
   "version": "3.9.16"
  },
  "orig_nbformat": 4
 },
 "nbformat": 4,
 "nbformat_minor": 2
}
