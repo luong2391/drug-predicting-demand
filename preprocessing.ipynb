{
 "cells": [
  {
   "attachments": {},
   "cell_type": "markdown",
   "metadata": {},
   "source": [
    "# Preprocessing\n",
    "- Drop redundancies\n",
    "- Handing missing values\n",
    "- Encoding"
   ]
  },
  {
   "cell_type": "code",
   "execution_count": 49,
   "metadata": {},
   "outputs": [],
   "source": [
    "import pandas as pd\n",
    "import numpy as np"
   ]
  },
  {
   "cell_type": "code",
   "execution_count": 50,
   "metadata": {},
   "outputs": [],
   "source": [
    "import pandas as pd\n",
    "dataset = pd.read_excel('pharma.xlsx')"
   ]
  },
  {
   "cell_type": "code",
   "execution_count": 51,
   "metadata": {},
   "outputs": [
    {
     "name": "stdout",
     "output_type": "stream",
     "text": [
      "<class 'pandas.core.frame.DataFrame'>\n",
      "RangeIndex: 691821 entries, 0 to 691820\n",
      "Data columns (total 14 columns):\n",
      " #   Column         Non-Null Count   Dtype         \n",
      "---  ------         --------------   -----         \n",
      " 0   Mã đơn hàng    691821 non-null  object        \n",
      " 1   Mã KH          691821 non-null  object        \n",
      " 2   Tên KH         691750 non-null  object        \n",
      " 3   Tỉnh           679876 non-null  object        \n",
      " 4   Quận/huyện     640051 non-null  object        \n",
      " 5   Xã/phường      670666 non-null  object        \n",
      " 6   Ngày           691821 non-null  datetime64[ns]\n",
      " 7   Tên nhân viên  691821 non-null  object        \n",
      " 8   Chi nhánh      691821 non-null  object        \n",
      " 9   Mã thuốc       691821 non-null  object        \n",
      " 10  Tên thuốc      691821 non-null  object        \n",
      " 11  Đơn vị         691821 non-null  object        \n",
      " 12  Số lượng       691821 non-null  int64         \n",
      " 13  Đơn giá        691821 non-null  float64       \n",
      "dtypes: datetime64[ns](1), float64(1), int64(1), object(11)\n",
      "memory usage: 73.9+ MB\n"
     ]
    }
   ],
   "source": [
    "dataset.info()"
   ]
  },
  {
   "cell_type": "code",
   "execution_count": 52,
   "metadata": {},
   "outputs": [
    {
     "data": {
      "text/html": [
       "<div>\n",
       "<style scoped>\n",
       "    .dataframe tbody tr th:only-of-type {\n",
       "        vertical-align: middle;\n",
       "    }\n",
       "\n",
       "    .dataframe tbody tr th {\n",
       "        vertical-align: top;\n",
       "    }\n",
       "\n",
       "    .dataframe thead th {\n",
       "        text-align: right;\n",
       "    }\n",
       "</style>\n",
       "<table border=\"1\" class=\"dataframe\">\n",
       "  <thead>\n",
       "    <tr style=\"text-align: right;\">\n",
       "      <th></th>\n",
       "      <th>Mã đơn hàng</th>\n",
       "      <th>Mã KH</th>\n",
       "      <th>Tên KH</th>\n",
       "      <th>Tỉnh</th>\n",
       "      <th>Quận/huyện</th>\n",
       "      <th>Xã/phường</th>\n",
       "      <th>Ngày</th>\n",
       "      <th>Tên nhân viên</th>\n",
       "      <th>Chi nhánh</th>\n",
       "      <th>Mã thuốc</th>\n",
       "      <th>Tên thuốc</th>\n",
       "      <th>Đơn vị</th>\n",
       "      <th>Số lượng</th>\n",
       "      <th>Đơn giá</th>\n",
       "    </tr>\n",
       "  </thead>\n",
       "  <tbody>\n",
       "    <tr>\n",
       "      <th>0</th>\n",
       "      <td>0c705e68-cbff-4c25-b860-881c51d7b291</td>\n",
       "      <td>N00146</td>\n",
       "      <td>Nhà thuốc Bệnh viện Nam Thăng Long</td>\n",
       "      <td>Thành phố Hà Nội</td>\n",
       "      <td>Quận Bắc Từ Liêm</td>\n",
       "      <td>Phường Xuân Đỉnh</td>\n",
       "      <td>2018-10-04</td>\n",
       "      <td>Phạm Thu Trang</td>\n",
       "      <td>Chi nhánh Hà Nội</td>\n",
       "      <td>G00817</td>\n",
       "      <td>Golistin-enema for children</td>\n",
       "      <td>LO</td>\n",
       "      <td>50</td>\n",
       "      <td>26667.0</td>\n",
       "    </tr>\n",
       "    <tr>\n",
       "      <th>1</th>\n",
       "      <td>0c705e68-cbff-4c25-b860-881c51d7b291</td>\n",
       "      <td>N00146</td>\n",
       "      <td>Nhà thuốc Bệnh viện Nam Thăng Long</td>\n",
       "      <td>Thành phố Hà Nội</td>\n",
       "      <td>Quận Bắc Từ Liêm</td>\n",
       "      <td>Phường Xuân Đỉnh</td>\n",
       "      <td>2018-10-04</td>\n",
       "      <td>Phạm Thu Trang</td>\n",
       "      <td>Chi nhánh Hà Nội</td>\n",
       "      <td>G00821</td>\n",
       "      <td>Golistin-enema</td>\n",
       "      <td>LO</td>\n",
       "      <td>30</td>\n",
       "      <td>35238.0</td>\n",
       "    </tr>\n",
       "    <tr>\n",
       "      <th>2</th>\n",
       "      <td>0c705e68-cbff-4c25-b860-881c51d7b291</td>\n",
       "      <td>N00146</td>\n",
       "      <td>Nhà thuốc Bệnh viện Nam Thăng Long</td>\n",
       "      <td>Thành phố Hà Nội</td>\n",
       "      <td>Quận Bắc Từ Liêm</td>\n",
       "      <td>Phường Xuân Đỉnh</td>\n",
       "      <td>2018-10-04</td>\n",
       "      <td>Phạm Thu Trang</td>\n",
       "      <td>Chi nhánh Hà Nội</td>\n",
       "      <td>P01191</td>\n",
       "      <td>Phenhalal</td>\n",
       "      <td>ONG</td>\n",
       "      <td>200</td>\n",
       "      <td>3950.0</td>\n",
       "    </tr>\n",
       "    <tr>\n",
       "      <th>3</th>\n",
       "      <td>196999A6-37EE-405C-8B9E-33E48A0455DC</td>\n",
       "      <td>P00641</td>\n",
       "      <td>Phòng khám đa khoa Hoàng Dũng - Quảng Trị</td>\n",
       "      <td>Tỉnh Quảng Trị</td>\n",
       "      <td>Thành phố Đông Hà</td>\n",
       "      <td>Phường 1</td>\n",
       "      <td>2018-10-04</td>\n",
       "      <td>Lưu Hữu Công</td>\n",
       "      <td>Chi nhánh Đà Nẵng</td>\n",
       "      <td>Z00209</td>\n",
       "      <td>Zentokid - H10</td>\n",
       "      <td>ONG</td>\n",
       "      <td>400</td>\n",
       "      <td>6500.0</td>\n",
       "    </tr>\n",
       "    <tr>\n",
       "      <th>4</th>\n",
       "      <td>5a1d6b35-5755-44d7-ad79-14f60dd4f0ef</td>\n",
       "      <td>B00670</td>\n",
       "      <td>Bệnh Viện Đa Khoa Huyện Tuyên Hóa ( Nhà Thuốc)</td>\n",
       "      <td>Tỉnh Quảng Bình</td>\n",
       "      <td>NaN</td>\n",
       "      <td>Thị Trấn Đồng Lê -Huyện Tuyên Hoá -Tỉnh Quảng ...</td>\n",
       "      <td>2018-10-04</td>\n",
       "      <td>Ngô Minh Anh Văn</td>\n",
       "      <td>Chi nhánh Đà Nẵng</td>\n",
       "      <td>H00852</td>\n",
       "      <td>Hemotocin</td>\n",
       "      <td>LO</td>\n",
       "      <td>10</td>\n",
       "      <td>235700.0</td>\n",
       "    </tr>\n",
       "  </tbody>\n",
       "</table>\n",
       "</div>"
      ],
      "text/plain": [
       "                            Mã đơn hàng   Mã KH  \\\n",
       "0  0c705e68-cbff-4c25-b860-881c51d7b291  N00146   \n",
       "1  0c705e68-cbff-4c25-b860-881c51d7b291  N00146   \n",
       "2  0c705e68-cbff-4c25-b860-881c51d7b291  N00146   \n",
       "3  196999A6-37EE-405C-8B9E-33E48A0455DC  P00641   \n",
       "4  5a1d6b35-5755-44d7-ad79-14f60dd4f0ef  B00670   \n",
       "\n",
       "                                           Tên KH              Tỉnh  \\\n",
       "0             Nhà thuốc Bệnh viện Nam Thăng Long   Thành phố Hà Nội   \n",
       "1             Nhà thuốc Bệnh viện Nam Thăng Long   Thành phố Hà Nội   \n",
       "2             Nhà thuốc Bệnh viện Nam Thăng Long   Thành phố Hà Nội   \n",
       "3       Phòng khám đa khoa Hoàng Dũng - Quảng Trị    Tỉnh Quảng Trị   \n",
       "4  Bệnh Viện Đa Khoa Huyện Tuyên Hóa ( Nhà Thuốc)   Tỉnh Quảng Bình   \n",
       "\n",
       "          Quận/huyện                                          Xã/phường  \\\n",
       "0   Quận Bắc Từ Liêm                                   Phường Xuân Đỉnh   \n",
       "1   Quận Bắc Từ Liêm                                   Phường Xuân Đỉnh   \n",
       "2   Quận Bắc Từ Liêm                                   Phường Xuân Đỉnh   \n",
       "3  Thành phố Đông Hà                                           Phường 1   \n",
       "4                NaN  Thị Trấn Đồng Lê -Huyện Tuyên Hoá -Tỉnh Quảng ...   \n",
       "\n",
       "       Ngày      Tên nhân viên          Chi nhánh Mã thuốc  \\\n",
       "0 2018-10-04    Phạm Thu Trang   Chi nhánh Hà Nội   G00817   \n",
       "1 2018-10-04    Phạm Thu Trang   Chi nhánh Hà Nội   G00821   \n",
       "2 2018-10-04    Phạm Thu Trang   Chi nhánh Hà Nội   P01191   \n",
       "3 2018-10-04      Lưu Hữu Công  Chi nhánh Đà Nẵng   Z00209   \n",
       "4 2018-10-04  Ngô Minh Anh Văn  Chi nhánh Đà Nẵng   H00852   \n",
       "\n",
       "                     Tên thuốc Đơn vị  Số lượng   Đơn giá  \n",
       "0  Golistin-enema for children     LO        50   26667.0  \n",
       "1              Golistin-enema      LO        30   35238.0  \n",
       "2                   Phenhalal     ONG       200    3950.0  \n",
       "3               Zentokid - H10    ONG       400    6500.0  \n",
       "4                   Hemotocin      LO        10  235700.0  "
      ]
     },
     "execution_count": 52,
     "metadata": {},
     "output_type": "execute_result"
    }
   ],
   "source": [
    "dataset.head()"
   ]
  },
  {
   "cell_type": "code",
   "execution_count": 53,
   "metadata": {},
   "outputs": [
    {
     "data": {
      "text/plain": [
       "Index(['Mã đơn hàng', 'Mã KH', 'Tên KH', 'Tỉnh', 'Quận/huyện', 'Xã/phường',\n",
       "       'Ngày ', 'Tên nhân viên', 'Chi nhánh', 'Mã thuốc', 'Tên thuốc',\n",
       "       'Đơn vị', 'Số lượng', 'Đơn giá'],\n",
       "      dtype='object')"
      ]
     },
     "execution_count": 53,
     "metadata": {},
     "output_type": "execute_result"
    }
   ],
   "source": [
    "columns = dataset.columns\n",
    "columns"
   ]
  },
  {
   "cell_type": "code",
   "execution_count": 54,
   "metadata": {},
   "outputs": [
    {
     "name": "stdout",
     "output_type": "stream",
     "text": [
      "Mã đơn hàng: 338569\n",
      "Mã KH: 61799\n",
      "Tên KH: 49177\n",
      "Tỉnh: 3800\n",
      "Quận/huyện: 3707\n",
      "Xã/phường: 12389\n",
      "Ngày : 1351\n",
      "Tên nhân viên: 1690\n",
      "Chi nhánh: 4\n",
      "Mã thuốc: 336\n",
      "Tên thuốc: 449\n",
      "Đơn vị: 10\n",
      "Số lượng: 1344\n",
      "Đơn giá: 759\n"
     ]
    }
   ],
   "source": [
    "number_unique = {}\n",
    "for column in columns:\n",
    "    number_unique[column] = dataset[column].nunique()\n",
    "    print(f'{column}: {dataset[column].nunique()}')"
   ]
  },
  {
   "cell_type": "code",
   "execution_count": 55,
   "metadata": {},
   "outputs": [
    {
     "data": {
      "text/plain": [
       "Thành phố Hà Nội         76568\n",
       "Tỉnh Thanh Hóa           34058\n",
       "Tỉnh Nghệ An             30783\n",
       "Tỉnh Thái Bình           29895\n",
       "Thành phố Hồ Chí Minh    28086\n",
       "Tỉnh Thái Nguyên         27307\n",
       "Thành phố Hải Phòng      26176\n",
       "Tỉnh Nam Định            24963\n",
       "Thành phố Đà Nẵng        20017\n",
       "Tỉnh Quảng Ninh          17997\n",
       "Tỉnh Hải Dương           16911\n",
       "Tỉnh Tuyên Quang         16837\n",
       "Tỉnh Vĩnh Phúc           16527\n",
       "Tỉnh Bắc Ninh            16123\n",
       "Tỉnh Hưng Yên            15117\n",
       "Tỉnh Hà Nam              13976\n",
       "Tỉnh Ninh Bình           13364\n",
       "Tỉnh Bắc Giang           13168\n",
       "Tỉnh Quảng Trị           12569\n",
       "Tỉnh Phú Thọ             10934\n",
       "Name: Tỉnh, dtype: int64"
      ]
     },
     "execution_count": 55,
     "metadata": {},
     "output_type": "execute_result"
    }
   ],
   "source": [
    "top = dataset['Tỉnh'].value_counts()\n",
    "top.head(20)"
   ]
  },
  {
   "attachments": {},
   "cell_type": "markdown",
   "metadata": {},
   "source": [
    "## Drop redundancies\n",
    "- Drop columns with vast categories (numbers of unique)"
   ]
  },
  {
   "attachments": {},
   "cell_type": "markdown",
   "metadata": {},
   "source": [
    "### Case 1\n",
    "- mã đơn hàng, mã kh, tên kh, tên nhân viên: drop vì\n",
    "    - nunique lớn (nhiều thể loại)\n",
    "    - \n",
    "- Dơn giá không liên quan vì = số lượng x giá (giá có thể thay đổi nhưng drop để đơn giản trong TH này)\n",
    "- Tên thuốc dễ nhập sai -> giữ mã thuốc, bỏ tên thuốc, đơn vị\n",
    "- địa điểm: chi nhánh, Tỉnh, quận/huyện, xã/phường -> chọn chi nhánh (drop còn lại)"
   ]
  },
  {
   "cell_type": "code",
   "execution_count": 56,
   "metadata": {},
   "outputs": [
    {
     "data": {
      "text/html": [
       "<div>\n",
       "<style scoped>\n",
       "    .dataframe tbody tr th:only-of-type {\n",
       "        vertical-align: middle;\n",
       "    }\n",
       "\n",
       "    .dataframe tbody tr th {\n",
       "        vertical-align: top;\n",
       "    }\n",
       "\n",
       "    .dataframe thead th {\n",
       "        text-align: right;\n",
       "    }\n",
       "</style>\n",
       "<table border=\"1\" class=\"dataframe\">\n",
       "  <thead>\n",
       "    <tr style=\"text-align: right;\">\n",
       "      <th></th>\n",
       "      <th>Tỉnh</th>\n",
       "      <th>Ngày</th>\n",
       "      <th>Mã thuốc</th>\n",
       "      <th>Số lượng</th>\n",
       "    </tr>\n",
       "  </thead>\n",
       "  <tbody>\n",
       "    <tr>\n",
       "      <th>0</th>\n",
       "      <td>Thành phố Hà Nội</td>\n",
       "      <td>2018-10-04</td>\n",
       "      <td>G00817</td>\n",
       "      <td>50</td>\n",
       "    </tr>\n",
       "    <tr>\n",
       "      <th>1</th>\n",
       "      <td>Thành phố Hà Nội</td>\n",
       "      <td>2018-10-04</td>\n",
       "      <td>G00821</td>\n",
       "      <td>30</td>\n",
       "    </tr>\n",
       "    <tr>\n",
       "      <th>2</th>\n",
       "      <td>Thành phố Hà Nội</td>\n",
       "      <td>2018-10-04</td>\n",
       "      <td>P01191</td>\n",
       "      <td>200</td>\n",
       "    </tr>\n",
       "    <tr>\n",
       "      <th>3</th>\n",
       "      <td>Tỉnh Quảng Trị</td>\n",
       "      <td>2018-10-04</td>\n",
       "      <td>Z00209</td>\n",
       "      <td>400</td>\n",
       "    </tr>\n",
       "    <tr>\n",
       "      <th>4</th>\n",
       "      <td>Tỉnh Quảng Bình</td>\n",
       "      <td>2018-10-04</td>\n",
       "      <td>H00852</td>\n",
       "      <td>10</td>\n",
       "    </tr>\n",
       "  </tbody>\n",
       "</table>\n",
       "</div>"
      ],
      "text/plain": [
       "               Tỉnh      Ngày  Mã thuốc  Số lượng\n",
       "0  Thành phố Hà Nội 2018-10-04   G00817        50\n",
       "1  Thành phố Hà Nội 2018-10-04   G00821        30\n",
       "2  Thành phố Hà Nội 2018-10-04   P01191       200\n",
       "3    Tỉnh Quảng Trị 2018-10-04   Z00209       400\n",
       "4   Tỉnh Quảng Bình 2018-10-04   H00852        10"
      ]
     },
     "execution_count": 56,
     "metadata": {},
     "output_type": "execute_result"
    }
   ],
   "source": [
    "drop_list = ['Mã đơn hàng', 'Mã KH', 'Tên KH', 'Xã/phường', 'Quận/huyện', 'Tên nhân viên', 'Tên thuốc', 'Đơn vị', 'Đơn giá', 'Chi nhánh' ]\n",
    "df1 = dataset.drop(drop_list, axis=1)\n",
    "df1.head()"
   ]
  },
  {
   "cell_type": "code",
   "execution_count": 57,
   "metadata": {},
   "outputs": [
    {
     "name": "stdout",
     "output_type": "stream",
     "text": [
      "<class 'pandas.core.frame.DataFrame'>\n",
      "RangeIndex: 691821 entries, 0 to 691820\n",
      "Data columns (total 4 columns):\n",
      " #   Column    Non-Null Count   Dtype         \n",
      "---  ------    --------------   -----         \n",
      " 0   Tỉnh      679876 non-null  object        \n",
      " 1   Ngày      691821 non-null  datetime64[ns]\n",
      " 2   Mã thuốc  691821 non-null  object        \n",
      " 3   Số lượng  691821 non-null  int64         \n",
      "dtypes: datetime64[ns](1), int64(1), object(2)\n",
      "memory usage: 21.1+ MB\n"
     ]
    }
   ],
   "source": [
    "df1.info()"
   ]
  },
  {
   "cell_type": "code",
   "execution_count": 58,
   "metadata": {},
   "outputs": [
    {
     "data": {
      "text/plain": [
       "Thành phố Hà Nội         76568\n",
       "Tỉnh Thanh Hóa           34058\n",
       "Tỉnh Nghệ An             30783\n",
       "Tỉnh Thái Bình           29895\n",
       "Thành phố Hồ Chí Minh    28086\n",
       "Tỉnh Thái Nguyên         27307\n",
       "Thành phố Hải Phòng      26176\n",
       "Name: Tỉnh, dtype: int64"
      ]
     },
     "execution_count": 58,
     "metadata": {},
     "output_type": "execute_result"
    }
   ],
   "source": [
    "# Step 1: Get the value counts\n",
    "value_counts = df1['Tỉnh'].value_counts()\n",
    "value_counts.head(7)"
   ]
  },
  {
   "attachments": {},
   "cell_type": "markdown",
   "metadata": {},
   "source": [
    "### Choose top 7 popular city:\n",
    "- Hà Nội, Thanh Hóa, Nghệ An, Thái Bình, Tp Hồ Chí Minh, Thái Nguyên, Thành phố Hải Phòng"
   ]
  },
  {
   "cell_type": "code",
   "execution_count": 61,
   "metadata": {},
   "outputs": [
    {
     "data": {
      "text/html": [
       "<div>\n",
       "<style scoped>\n",
       "    .dataframe tbody tr th:only-of-type {\n",
       "        vertical-align: middle;\n",
       "    }\n",
       "\n",
       "    .dataframe tbody tr th {\n",
       "        vertical-align: top;\n",
       "    }\n",
       "\n",
       "    .dataframe thead th {\n",
       "        text-align: right;\n",
       "    }\n",
       "</style>\n",
       "<table border=\"1\" class=\"dataframe\">\n",
       "  <thead>\n",
       "    <tr style=\"text-align: right;\">\n",
       "      <th></th>\n",
       "      <th>Tỉnh</th>\n",
       "      <th>Ngày</th>\n",
       "      <th>Mã thuốc</th>\n",
       "      <th>Số lượng</th>\n",
       "    </tr>\n",
       "  </thead>\n",
       "  <tbody>\n",
       "    <tr>\n",
       "      <th>0</th>\n",
       "      <td>Thành phố Hà Nội</td>\n",
       "      <td>2018-10-04</td>\n",
       "      <td>G00817</td>\n",
       "      <td>50</td>\n",
       "    </tr>\n",
       "    <tr>\n",
       "      <th>1</th>\n",
       "      <td>Thành phố Hà Nội</td>\n",
       "      <td>2018-10-04</td>\n",
       "      <td>G00821</td>\n",
       "      <td>30</td>\n",
       "    </tr>\n",
       "    <tr>\n",
       "      <th>2</th>\n",
       "      <td>Thành phố Hà Nội</td>\n",
       "      <td>2018-10-04</td>\n",
       "      <td>P01191</td>\n",
       "      <td>200</td>\n",
       "    </tr>\n",
       "    <tr>\n",
       "      <th>14</th>\n",
       "      <td>Thành phố Hà Nội</td>\n",
       "      <td>2018-10-10</td>\n",
       "      <td>G00898</td>\n",
       "      <td>5</td>\n",
       "    </tr>\n",
       "    <tr>\n",
       "      <th>15</th>\n",
       "      <td>Tỉnh Thanh Hóa</td>\n",
       "      <td>2018-10-13</td>\n",
       "      <td>D01057</td>\n",
       "      <td>4000</td>\n",
       "    </tr>\n",
       "    <tr>\n",
       "      <th>...</th>\n",
       "      <td>...</td>\n",
       "      <td>...</td>\n",
       "      <td>...</td>\n",
       "      <td>...</td>\n",
       "    </tr>\n",
       "    <tr>\n",
       "      <th>691816</th>\n",
       "      <td>Thành phố Hà Nội</td>\n",
       "      <td>2022-07-11</td>\n",
       "      <td>L01021</td>\n",
       "      <td>1</td>\n",
       "    </tr>\n",
       "    <tr>\n",
       "      <th>691817</th>\n",
       "      <td>Thành phố Hà Nội</td>\n",
       "      <td>2022-07-11</td>\n",
       "      <td>N01080</td>\n",
       "      <td>2</td>\n",
       "    </tr>\n",
       "    <tr>\n",
       "      <th>691818</th>\n",
       "      <td>Thành phố Hà Nội</td>\n",
       "      <td>2022-07-11</td>\n",
       "      <td>N01084</td>\n",
       "      <td>2</td>\n",
       "    </tr>\n",
       "    <tr>\n",
       "      <th>691819</th>\n",
       "      <td>Thành phố Hà Nội</td>\n",
       "      <td>2022-07-11</td>\n",
       "      <td>P01364</td>\n",
       "      <td>35</td>\n",
       "    </tr>\n",
       "    <tr>\n",
       "      <th>691820</th>\n",
       "      <td>Thành phố Hà Nội</td>\n",
       "      <td>2022-07-11</td>\n",
       "      <td>Z00209</td>\n",
       "      <td>10</td>\n",
       "    </tr>\n",
       "  </tbody>\n",
       "</table>\n",
       "<p>252873 rows × 4 columns</p>\n",
       "</div>"
      ],
      "text/plain": [
       "                    Tỉnh      Ngày  Mã thuốc  Số lượng\n",
       "0       Thành phố Hà Nội 2018-10-04   G00817        50\n",
       "1       Thành phố Hà Nội 2018-10-04   G00821        30\n",
       "2       Thành phố Hà Nội 2018-10-04   P01191       200\n",
       "14      Thành phố Hà Nội 2018-10-10   G00898         5\n",
       "15        Tỉnh Thanh Hóa 2018-10-13   D01057      4000\n",
       "...                  ...        ...      ...       ...\n",
       "691816  Thành phố Hà Nội 2022-07-11   L01021         1\n",
       "691817  Thành phố Hà Nội 2022-07-11   N01080         2\n",
       "691818  Thành phố Hà Nội 2022-07-11   N01084         2\n",
       "691819  Thành phố Hà Nội 2022-07-11   P01364        35\n",
       "691820  Thành phố Hà Nội 2022-07-11   Z00209        10\n",
       "\n",
       "[252873 rows x 4 columns]"
      ]
     },
     "execution_count": 61,
     "metadata": {},
     "output_type": "execute_result"
    }
   ],
   "source": [
    "# Step 2: Get the top 7 values\n",
    "top_values = value_counts.nlargest(7).index.tolist()\n",
    "\n",
    "# Step 3: Create a boolean mask\n",
    "mask = df1['Tỉnh'].isin(top_values)\n",
    "\n",
    "# Step 4: Select the rows that contain the top 7 values\n",
    "df_top7 = df1.loc[mask]\n",
    "df_top7"
   ]
  },
  {
   "cell_type": "code",
   "execution_count": 62,
   "metadata": {},
   "outputs": [
    {
     "name": "stdout",
     "output_type": "stream",
     "text": [
      "<class 'pandas.core.frame.DataFrame'>\n",
      "Int64Index: 252873 entries, 0 to 691820\n",
      "Data columns (total 4 columns):\n",
      " #   Column    Non-Null Count   Dtype         \n",
      "---  ------    --------------   -----         \n",
      " 0   Tỉnh      252873 non-null  object        \n",
      " 1   Ngày      252873 non-null  datetime64[ns]\n",
      " 2   Mã thuốc  252873 non-null  object        \n",
      " 3   Số lượng  252873 non-null  int64         \n",
      "dtypes: datetime64[ns](1), int64(1), object(2)\n",
      "memory usage: 9.6+ MB\n"
     ]
    }
   ],
   "source": [
    "df_top7.info()"
   ]
  },
  {
   "attachments": {},
   "cell_type": "markdown",
   "metadata": {},
   "source": [
    "### Select top 8 popular drugs\n",
    "- Step 1: Choose top 50 popular\n",
    "- Step 2: Group by ATC code\n",
    "- Step 3: Finish "
   ]
  },
  {
   "cell_type": "code",
   "execution_count": 64,
   "metadata": {},
   "outputs": [
    {
     "data": {
      "text/plain": [
       "N01080    9074\n",
       "M01225    8975\n",
       "Z00200    8554\n",
       "P01481    8130\n",
       "M01090    7826\n",
       "G00821    7663\n",
       "P01364    6935\n",
       "P01146    6663\n",
       "G00898    6594\n",
       "Z00209    5494\n",
       "F00550    4840\n",
       "Z00226    4767\n",
       "B01373    4433\n",
       "C01842    4353\n",
       "G00869    4270\n",
       "L01012    3770\n",
       "B01166    3738\n",
       "Z00197    3195\n",
       "A01414    3164\n",
       "N01041    2902\n",
       "D01304    2886\n",
       "H01921    2761\n",
       "R00365    2759\n",
       "T01864    2580\n",
       "P01478    2544\n",
       "N01084    2447\n",
       "D01375    2399\n",
       "D01349    2341\n",
       "A01303    2156\n",
       "T01855    2045\n",
       "S01447    2027\n",
       "P01299    1967\n",
       "L00993    1819\n",
       "T01701    1777\n",
       "N01165    1687\n",
       "L00854    1667\n",
       "N00845    1625\n",
       "D01183    1622\n",
       "L00801    1615\n",
       "D01355    1593\n",
       "Z00219    1540\n",
       "P01336    1468\n",
       "D01063    1435\n",
       "M01656    1400\n",
       "H00852    1382\n",
       "G00951    1317\n",
       "F00482    1316\n",
       "M01076    1315\n",
       "A01338    1311\n",
       "D01519    1264\n",
       "Name: Mã thuốc, dtype: int64"
      ]
     },
     "execution_count": 64,
     "metadata": {},
     "output_type": "execute_result"
    }
   ],
   "source": [
    "drug_50 = df_top7['Mã thuốc'].value_counts()\n",
    "drug_50.head(50)"
   ]
  }
 ],
 "metadata": {
  "kernelspec": {
   "display_name": "Python 3",
   "language": "python",
   "name": "python3"
  },
  "language_info": {
   "codemirror_mode": {
    "name": "ipython",
    "version": 3
   },
   "file_extension": ".py",
   "mimetype": "text/x-python",
   "name": "python",
   "nbconvert_exporter": "python",
   "pygments_lexer": "ipython3",
   "version": "3.10.9"
  },
  "orig_nbformat": 4
 },
 "nbformat": 4,
 "nbformat_minor": 2
}
